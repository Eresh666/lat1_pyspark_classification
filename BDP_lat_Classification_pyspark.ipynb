{
  "nbformat": 4,
  "nbformat_minor": 0,
  "metadata": {
    "colab": {
      "provenance": []
    },
    "kernelspec": {
      "name": "python3",
      "display_name": "Python 3"
    },
    "language_info": {
      "name": "python"
    }
  },
  "cells": [
    {
      "cell_type": "code",
      "execution_count": 34,
      "metadata": {
        "id": "wErf-p1mLbSY"
      },
      "outputs": [],
      "source": []
    },
    {
      "cell_type": "code",
      "source": [],
      "metadata": {
        "id": "Engwu1kqLdE7"
      },
      "execution_count": 34,
      "outputs": []
    },
    {
      "cell_type": "code",
      "source": [
        "%pip install pyspark"
      ],
      "metadata": {
        "colab": {
          "base_uri": "https://localhost:8080/"
        },
        "id": "mMpnLIsCLeu_",
        "outputId": "9b1238dd-94cf-4351-eb5d-b002d15098a6"
      },
      "execution_count": 35,
      "outputs": [
        {
          "output_type": "stream",
          "name": "stdout",
          "text": [
            "Requirement already satisfied: pyspark in /usr/local/lib/python3.10/dist-packages (3.5.3)\n",
            "Requirement already satisfied: py4j==0.10.9.7 in /usr/local/lib/python3.10/dist-packages (from pyspark) (0.10.9.7)\n"
          ]
        }
      ]
    },
    {
      "cell_type": "code",
      "source": [
        "from pyspark.sql import SparkSession\n",
        "from pyspark.sql.functions import *\n",
        "from pyspark.ml.feature import VectorAssembler, StandardScaler\n",
        "from pyspark.ml.classification import LogisticRegression\n",
        "from pyspark.ml.evaluation import BinaryClassificationEvaluator"
      ],
      "metadata": {
        "id": "AqGTt7G9Lgt2"
      },
      "execution_count": 36,
      "outputs": []
    },
    {
      "cell_type": "code",
      "source": [
        "from google.colab import drive\n",
        "drive.mount('/content/drive')"
      ],
      "metadata": {
        "colab": {
          "base_uri": "https://localhost:8080/"
        },
        "id": "Jh4KPgmCL-Ia",
        "outputId": "188ec9a5-2691-4e74-a93d-7e97e64a9853"
      },
      "execution_count": 37,
      "outputs": [
        {
          "output_type": "stream",
          "name": "stdout",
          "text": [
            "Drive already mounted at /content/drive; to attempt to forcibly remount, call drive.mount(\"/content/drive\", force_remount=True).\n"
          ]
        }
      ]
    },
    {
      "cell_type": "code",
      "source": [
        "spark = SparkSession.builder.getOrCreate()\n",
        "\n",
        "df_train = spark.read.option(\"inferSchema\", \"true\").csv(\"drive/MyDrive/Dataset_python/Classification/BigFootTesting.csv\", header=True)\n",
        "df_test = spark.read.option(\"inferSchema\", \"true\").csv(\"drive/MyDrive/Dataset_python/Classification/BigFootTesting.csv\", header=True)\n",
        "\n",
        "df_train.show(5)\n",
        "df_test.show(5)"
      ],
      "metadata": {
        "colab": {
          "base_uri": "https://localhost:8080/"
        },
        "id": "bJ8N2K3GLieB",
        "outputId": "5d14ae99-a667-4261-fa37-888aa3b1b8c8"
      },
      "execution_count": 38,
      "outputs": [
        {
          "output_type": "stream",
          "name": "stdout",
          "text": [
            "+---------+------+------+---------+-----------+\n",
            "|fur_color|height|weight|eye_color|prehistoric|\n",
            "+---------+------+------+---------+-----------+\n",
            "|   calico|182 cm| 69 kg|    brown|      false|\n",
            "|    white|173 cm|236 kg|    black|       true|\n",
            "|      red|240 cm|205 kg|     blue|       true|\n",
            "|   orange|195 cm| 67 kg|    black|      false|\n",
            "|dark grey|224 cm|289 kg|    black|       true|\n",
            "+---------+------+------+---------+-----------+\n",
            "only showing top 5 rows\n",
            "\n",
            "+---------+------+------+---------+-----------+\n",
            "|fur_color|height|weight|eye_color|prehistoric|\n",
            "+---------+------+------+---------+-----------+\n",
            "|   calico|182 cm| 69 kg|    brown|      false|\n",
            "|    white|173 cm|236 kg|    black|       true|\n",
            "|      red|240 cm|205 kg|     blue|       true|\n",
            "|   orange|195 cm| 67 kg|    black|      false|\n",
            "|dark grey|224 cm|289 kg|    black|       true|\n",
            "+---------+------+------+---------+-----------+\n",
            "only showing top 5 rows\n",
            "\n"
          ]
        }
      ]
    },
    {
      "cell_type": "code",
      "source": [
        "df_train = df_train.select(\"fur_color\", \"eye_color\", \"prehistoric\")\n",
        "df_test = df_test.select(\"fur_color\", \"eye_color\", \"prehistoric\")"
      ],
      "metadata": {
        "id": "rbGPXmR3QN8M"
      },
      "execution_count": 39,
      "outputs": []
    },
    {
      "cell_type": "code",
      "source": [
        "df_train = df_train.na.drop()\n",
        "df_test = df_test.na.drop()"
      ],
      "metadata": {
        "id": "_lPKd6ROQPgV"
      },
      "execution_count": 40,
      "outputs": []
    },
    {
      "cell_type": "code",
      "source": [
        "df_train = df_train.withColumn(\"fur_color\",\n",
        "                               when(df_train[\"fur_color\"] == \"white\", 0).\n",
        "                               when(df_train[\"fur_color\"] == \"grey\", 1).\n",
        "                               when(df_train[\"fur_color\"] == \"red\", 2).\n",
        "                               when(df_train[\"fur_color\"] == \"orange\", 3).\n",
        "                               when(df_train[\"fur_color\"] == \"calico\", 4).\n",
        "                               when(df_train[\"fur_color\"] == \"brown\", 5).\n",
        "                               when(df_train[\"fur_color\"] == \"black\", 6).\n",
        "                               when(df_train[\"fur_color\"] == \"dark grey\", 7))\n",
        "\n",
        "df_train = df_train.withColumn(\"eye_color\", when(df_train[\"eye_color\"] == \"green\", 0).\n",
        "                                            when(df_train[\"eye_color\"] == \"blue\", 1).\n",
        "                                            when(df_train[\"eye_color\"] == \"black\", 2).\n",
        "                                            when(df_train[\"eye_color\"] == \"brown\", 3))\n",
        "\n",
        "df_train = df_train.withColumn(\"prehistoric\", when(df_train[\"prehistoric\"] == \"true\", 0).\n",
        "                                                  when(df_train[\"prehistoric\"] == \"false\", 1))\n",
        "\n",
        "df_test = df_test.withColumn(\"fur_color\",\n",
        "                             when(df_test[\"fur_color\"] == \"white\", 0).\n",
        "                             when(df_test[\"fur_color\"] == \"grey\", 1).\n",
        "                             when(df_test[\"fur_color\"] == \"red\", 2).\n",
        "                             when(df_test[\"fur_color\"] == \"orange\", 3).\n",
        "                             when(df_test[\"fur_color\"] == \"calico\", 4).\n",
        "                             when(df_test[\"fur_color\"] == \"brown\", 5).\n",
        "                             when(df_test[\"fur_color\"] == \"black\", 6).\n",
        "                             when(df_test[\"fur_color\"] == \"dark grey\", 7))\n",
        "\n",
        "df_test = df_test.withColumn(\"eye_color\", when(df_test[\"eye_color\"] == \"green\", 0).\n",
        "                                            when(df_test[\"eye_color\"] == \"blue\", 1).\n",
        "                                            when(df_test[\"eye_color\"] == \"black\", 2).\n",
        "                                            when(df_test[\"eye_color\"] == \"brown\", 3))\n",
        "\n",
        "df_test = df_test.withColumn(\"prehistoric\", when(df_test[\"prehistoric\"] == \"true\", 0).\n",
        "                                                when(df_test[\"prehistoric\"] == \"false\", 1))"
      ],
      "metadata": {
        "id": "Z1UMOzmCQRMZ"
      },
      "execution_count": 41,
      "outputs": []
    },
    {
      "cell_type": "code",
      "source": [
        "cols = df_train.columns\n",
        "cols.remove(\"prehistoric\")\n",
        "df_train = VectorAssembler(inputCols=cols, outputCol=\"Features\").transform(df_train)\n",
        "\n",
        "scaler = StandardScaler(inputCol=\"Features\", outputCol=\"Scaled_Features\")\n",
        "df_train = scaler.fit(df_train).transform(df_train)\n",
        "\n",
        "df_train.select(\"prehistoric\", \"Scaled_Features\").show(10, False)"
      ],
      "metadata": {
        "colab": {
          "base_uri": "https://localhost:8080/"
        },
        "collapsed": true,
        "id": "9Vr5KNeBQTvB",
        "outputId": "72babb27-5000-4e46-bcdc-3b6b883c49ed"
      },
      "execution_count": 42,
      "outputs": [
        {
          "output_type": "stream",
          "name": "stdout",
          "text": [
            "+-----------+---------------------------------------+\n",
            "|prehistoric|Scaled_Features                        |\n",
            "+-----------+---------------------------------------+\n",
            "|1          |[1.8902446056433315,2.631407216175239] |\n",
            "|0          |[0.0,1.754271477450159]                |\n",
            "|0          |[0.9451223028216658,0.8771357387250796]|\n",
            "|1          |[1.4176834542324985,1.754271477450159] |\n",
            "|0          |[3.30792805987583,1.754271477450159]   |\n",
            "|1          |[0.4725611514108329,0.0]               |\n",
            "|0          |[3.30792805987583,1.754271477450159]   |\n",
            "|1          |[2.3628057570541645,2.631407216175239] |\n",
            "|1          |[2.3628057570541645,0.8771357387250796]|\n",
            "|1          |[1.4176834542324985,1.754271477450159] |\n",
            "+-----------+---------------------------------------+\n",
            "only showing top 10 rows\n",
            "\n"
          ]
        }
      ]
    },
    {
      "cell_type": "code",
      "source": [
        "cols = df_test.columns\n",
        "cols.remove(\"prehistoric\")\n",
        "df_test = VectorAssembler(inputCols=cols, outputCol=\"Features\").transform(df_test)\n",
        "\n",
        "scaler = StandardScaler(inputCol=\"Features\", outputCol=\"Scaled_Features\")\n",
        "df_test = scaler.fit(df_test).transform(df_test)\n",
        "\n",
        "df_test.select(\"prehistoric\", \"Scaled_Features\").show(10, False)"
      ],
      "metadata": {
        "colab": {
          "base_uri": "https://localhost:8080/"
        },
        "id": "WUs4RcTCQW0A",
        "outputId": "59007aeb-5814-4d0c-deb6-0e61345ab35e"
      },
      "execution_count": 43,
      "outputs": [
        {
          "output_type": "stream",
          "name": "stdout",
          "text": [
            "+-----------+---------------------------------------+\n",
            "|prehistoric|Scaled_Features                        |\n",
            "+-----------+---------------------------------------+\n",
            "|1          |[1.8902446056433315,2.631407216175239] |\n",
            "|0          |[0.0,1.754271477450159]                |\n",
            "|0          |[0.9451223028216658,0.8771357387250796]|\n",
            "|1          |[1.4176834542324985,1.754271477450159] |\n",
            "|0          |[3.30792805987583,1.754271477450159]   |\n",
            "|1          |[0.4725611514108329,0.0]               |\n",
            "|0          |[3.30792805987583,1.754271477450159]   |\n",
            "|1          |[2.3628057570541645,2.631407216175239] |\n",
            "|1          |[2.3628057570541645,0.8771357387250796]|\n",
            "|1          |[1.4176834542324985,1.754271477450159] |\n",
            "+-----------+---------------------------------------+\n",
            "only showing top 10 rows\n",
            "\n"
          ]
        }
      ]
    },
    {
      "cell_type": "code",
      "source": [
        "#model = LogisticRegression(featuresCol=\"Scaled_Features\", labelCol=\"prehistoric\", maxIter=10).transform(df)\n",
        "\n",
        "model = LogisticRegression(featuresCol=\"Scaled_Features\", labelCol=\"prehistoric\", maxIter=10)\n",
        "model = model.fit(df_train)"
      ],
      "metadata": {
        "collapsed": true,
        "id": "vPLTyeuPQZGE"
      },
      "execution_count": 46,
      "outputs": []
    },
    {
      "cell_type": "code",
      "source": [
        "prediction = model.transform(df_test)\n",
        "\n",
        "prediction.select(\"Scaled_features\", \"prehistoric\", \"Prediction\").show(15, False)\n",
        "\n",
        "# Accuracy Logistic Regression\n",
        "evaluator = BinaryClassificationEvaluator(labelCol = \"prehistoric\")\n",
        "print(\"Accuracy: {}%\".format(evaluator.evaluate(prediction) * 100))"
      ],
      "metadata": {
        "colab": {
          "base_uri": "https://localhost:8080/"
        },
        "id": "_z-kyFWzQb91",
        "outputId": "22bab564-881b-4ef6-a54f-df588ae9bdab"
      },
      "execution_count": 47,
      "outputs": [
        {
          "output_type": "stream",
          "name": "stdout",
          "text": [
            "+---------------------------------------+-----------+----------+\n",
            "|Scaled_features                        |prehistoric|Prediction|\n",
            "+---------------------------------------+-----------+----------+\n",
            "|[1.8902446056433315,2.631407216175239] |1          |0.0       |\n",
            "|[0.0,1.754271477450159]                |0          |0.0       |\n",
            "|[0.9451223028216658,0.8771357387250796]|0          |0.0       |\n",
            "|[1.4176834542324985,1.754271477450159] |1          |0.0       |\n",
            "|[3.30792805987583,1.754271477450159]   |0          |1.0       |\n",
            "|[0.4725611514108329,0.0]               |1          |0.0       |\n",
            "|[3.30792805987583,1.754271477450159]   |0          |1.0       |\n",
            "|[2.3628057570541645,2.631407216175239] |1          |0.0       |\n",
            "|[2.3628057570541645,0.8771357387250796]|1          |0.0       |\n",
            "|[1.4176834542324985,1.754271477450159] |1          |0.0       |\n",
            "|[1.8902446056433315,0.0]               |1          |0.0       |\n",
            "|[3.30792805987583,0.8771357387250796]  |1          |1.0       |\n",
            "|[1.8902446056433315,0.8771357387250796]|0          |0.0       |\n",
            "|[1.8902446056433315,2.631407216175239] |1          |0.0       |\n",
            "|[1.8902446056433315,0.0]               |1          |0.0       |\n",
            "+---------------------------------------+-----------+----------+\n",
            "only showing top 15 rows\n",
            "\n",
            "Accuracy: 60.897182851485645%\n"
          ]
        }
      ]
    }
  ]
}